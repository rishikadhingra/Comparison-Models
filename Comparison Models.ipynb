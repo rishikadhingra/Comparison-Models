{
 "cells": [
  {
   "cell_type": "markdown",
   "id": "20a5bed6",
   "metadata": {},
   "source": [
    "# Import necessary libraries"
   ]
  },
  {
   "cell_type": "code",
   "execution_count": 1,
   "id": "9e487334",
   "metadata": {},
   "outputs": [],
   "source": [
    "# Step 1: Import necessary libraries\n",
    "import pandas as pd\n",
    "import numpy as np\n",
    "import matplotlib.pyplot as plt\n",
    "import seaborn as sns\n",
    "from sklearn.model_selection import train_test_split\n",
    "from sklearn.preprocessing import LabelEncoder\n",
    "from sklearn.ensemble import RandomForestClassifier\n",
    "from sklearn.linear_model import LogisticRegression\n",
    "from sklearn.neighbors import KNeighborsClassifier\n",
    "from sklearn.metrics import accuracy_score, classification_report, confusion_matrix\n",
    "from sklearn.model_selection import cross_val_score\n",
    "from sklearn.feature_selection import SelectKBest, chi2\n",
    "from sklearn.metrics import accuracy_score, precision_score, recall_score, f1_score\n"
   ]
  },
  {
   "cell_type": "markdown",
   "id": "5c28c3bd",
   "metadata": {},
   "source": [
    "# Load the dataset"
   ]
  },
  {
   "cell_type": "code",
   "execution_count": 2,
   "id": "06096e1e",
   "metadata": {},
   "outputs": [],
   "source": [
    "# Step 2: Load the dataset\n",
    "data = pd.read_csv('/Users/rishikadhingra/Desktop/Comparison Models/mushrooms.csv')"
   ]
  },
  {
   "cell_type": "markdown",
   "id": "9e0abe1a",
   "metadata": {},
   "source": [
    "# Data Understanding"
   ]
  },
  {
   "cell_type": "code",
   "execution_count": 3,
   "id": "80aeeee7",
   "metadata": {},
   "outputs": [
    {
     "name": "stdout",
     "output_type": "stream",
     "text": [
      "  class cap-shape cap-surface cap-color bruises odor gill-attachment  \\\n",
      "0     p         x           s         n       t    p               f   \n",
      "1     e         x           s         y       t    a               f   \n",
      "2     e         b           s         w       t    l               f   \n",
      "3     p         x           y         w       t    p               f   \n",
      "4     e         x           s         g       f    n               f   \n",
      "\n",
      "  gill-spacing gill-size gill-color  ... stalk-surface-below-ring  \\\n",
      "0            c         n          k  ...                        s   \n",
      "1            c         b          k  ...                        s   \n",
      "2            c         b          n  ...                        s   \n",
      "3            c         n          n  ...                        s   \n",
      "4            w         b          k  ...                        s   \n",
      "\n",
      "  stalk-color-above-ring stalk-color-below-ring veil-type veil-color  \\\n",
      "0                      w                      w         p          w   \n",
      "1                      w                      w         p          w   \n",
      "2                      w                      w         p          w   \n",
      "3                      w                      w         p          w   \n",
      "4                      w                      w         p          w   \n",
      "\n",
      "  ring-number ring-type spore-print-color population habitat  \n",
      "0           o         p                 k          s       u  \n",
      "1           o         p                 n          n       g  \n",
      "2           o         p                 n          n       m  \n",
      "3           o         p                 k          s       u  \n",
      "4           o         e                 n          a       g  \n",
      "\n",
      "[5 rows x 23 columns]\n"
     ]
    }
   ],
   "source": [
    "# Step 3: Data Understanding\n",
    "print(data.head())"
   ]
  },
  {
   "cell_type": "code",
   "execution_count": 4,
   "id": "3baf5ab3",
   "metadata": {},
   "outputs": [
    {
     "name": "stdout",
     "output_type": "stream",
     "text": [
      "<class 'pandas.core.frame.DataFrame'>\n",
      "RangeIndex: 8124 entries, 0 to 8123\n",
      "Data columns (total 23 columns):\n",
      " #   Column                    Non-Null Count  Dtype \n",
      "---  ------                    --------------  ----- \n",
      " 0   class                     8124 non-null   object\n",
      " 1   cap-shape                 8124 non-null   object\n",
      " 2   cap-surface               8124 non-null   object\n",
      " 3   cap-color                 8124 non-null   object\n",
      " 4   bruises                   8124 non-null   object\n",
      " 5   odor                      8124 non-null   object\n",
      " 6   gill-attachment           8124 non-null   object\n",
      " 7   gill-spacing              8124 non-null   object\n",
      " 8   gill-size                 8124 non-null   object\n",
      " 9   gill-color                8124 non-null   object\n",
      " 10  stalk-shape               8124 non-null   object\n",
      " 11  stalk-root                8124 non-null   object\n",
      " 12  stalk-surface-above-ring  8124 non-null   object\n",
      " 13  stalk-surface-below-ring  8124 non-null   object\n",
      " 14  stalk-color-above-ring    8124 non-null   object\n",
      " 15  stalk-color-below-ring    8124 non-null   object\n",
      " 16  veil-type                 8124 non-null   object\n",
      " 17  veil-color                8124 non-null   object\n",
      " 18  ring-number               8124 non-null   object\n",
      " 19  ring-type                 8124 non-null   object\n",
      " 20  spore-print-color         8124 non-null   object\n",
      " 21  population                8124 non-null   object\n",
      " 22  habitat                   8124 non-null   object\n",
      "dtypes: object(23)\n",
      "memory usage: 1.4+ MB\n",
      "None\n"
     ]
    }
   ],
   "source": [
    "print(data.info())"
   ]
  },
  {
   "cell_type": "code",
   "execution_count": 5,
   "id": "8eee285a",
   "metadata": {},
   "outputs": [
    {
     "name": "stdout",
     "output_type": "stream",
     "text": [
      "       class cap-shape cap-surface cap-color bruises  odor gill-attachment  \\\n",
      "count   8124      8124        8124      8124    8124  8124            8124   \n",
      "unique     2         6           4        10       2     9               2   \n",
      "top        e         x           y         n       f     n               f   \n",
      "freq    4208      3656        3244      2284    4748  3528            7914   \n",
      "\n",
      "       gill-spacing gill-size gill-color  ... stalk-surface-below-ring  \\\n",
      "count          8124      8124       8124  ...                     8124   \n",
      "unique            2         2         12  ...                        4   \n",
      "top               c         b          b  ...                        s   \n",
      "freq           6812      5612       1728  ...                     4936   \n",
      "\n",
      "       stalk-color-above-ring stalk-color-below-ring veil-type veil-color  \\\n",
      "count                    8124                   8124      8124       8124   \n",
      "unique                      9                      9         1          4   \n",
      "top                         w                      w         p          w   \n",
      "freq                     4464                   4384      8124       7924   \n",
      "\n",
      "       ring-number ring-type spore-print-color population habitat  \n",
      "count         8124      8124              8124       8124    8124  \n",
      "unique           3         5                 9          6       7  \n",
      "top              o         p                 w          v       d  \n",
      "freq          7488      3968              2388       4040    3148  \n",
      "\n",
      "[4 rows x 23 columns]\n"
     ]
    }
   ],
   "source": [
    "print(data.describe())"
   ]
  },
  {
   "cell_type": "markdown",
   "id": "7779f38b",
   "metadata": {},
   "source": [
    "# Data Preparation"
   ]
  },
  {
   "cell_type": "code",
   "execution_count": 6,
   "id": "6b61a8a9",
   "metadata": {},
   "outputs": [],
   "source": [
    "# Step 4: Data Preparation\n",
    "# Encode categorical variables\n",
    "label_encoder = LabelEncoder()\n",
    "for column in data.columns:\n",
    "    data[column] = label_encoder.fit_transform(data[column])"
   ]
  },
  {
   "cell_type": "code",
   "execution_count": 7,
   "id": "7490c66e",
   "metadata": {},
   "outputs": [],
   "source": [
    "# Split features and target variable\n",
    "X = data.drop('class', axis=1)\n",
    "y = data['class']\n"
   ]
  },
  {
   "cell_type": "code",
   "execution_count": 8,
   "id": "0849fdc9",
   "metadata": {},
   "outputs": [],
   "source": [
    "# Split the data into train and test sets\n",
    "X_train, X_test, y_train, y_test = train_test_split(X, y, test_size=0.2, random_state=42)\n",
    "\n"
   ]
  },
  {
   "cell_type": "markdown",
   "id": "5b19ee1f",
   "metadata": {},
   "source": [
    "# Modeling"
   ]
  },
  {
   "cell_type": "code",
   "execution_count": 9,
   "id": "64a91f52",
   "metadata": {},
   "outputs": [],
   "source": [
    "# Step 5: Modeling\n",
    "# Initialize Random Forest and Logistic Regression classifiers\n",
    "rf_model = RandomForestClassifier()\n",
    "lr_model = LogisticRegression()\n",
    "knn_model = KNeighborsClassifier()"
   ]
  },
  {
   "cell_type": "code",
   "execution_count": 10,
   "id": "7cba4cd3",
   "metadata": {},
   "outputs": [
    {
     "data": {
      "text/plain": [
       "RandomForestClassifier()"
      ]
     },
     "execution_count": 10,
     "metadata": {},
     "output_type": "execute_result"
    }
   ],
   "source": [
    "# Train Random Forest model\n",
    "rf_model.fit(X_train, y_train)\n"
   ]
  },
  {
   "cell_type": "code",
   "execution_count": 11,
   "id": "01fd7e7d",
   "metadata": {},
   "outputs": [
    {
     "name": "stderr",
     "output_type": "stream",
     "text": [
      "/opt/anaconda3/lib/python3.9/site-packages/sklearn/linear_model/_logistic.py:814: ConvergenceWarning: lbfgs failed to converge (status=1):\n",
      "STOP: TOTAL NO. of ITERATIONS REACHED LIMIT.\n",
      "\n",
      "Increase the number of iterations (max_iter) or scale the data as shown in:\n",
      "    https://scikit-learn.org/stable/modules/preprocessing.html\n",
      "Please also refer to the documentation for alternative solver options:\n",
      "    https://scikit-learn.org/stable/modules/linear_model.html#logistic-regression\n",
      "  n_iter_i = _check_optimize_result(\n"
     ]
    },
    {
     "data": {
      "text/plain": [
       "LogisticRegression()"
      ]
     },
     "execution_count": 11,
     "metadata": {},
     "output_type": "execute_result"
    }
   ],
   "source": [
    "# Train Logistic Regression model\n",
    "lr_model.fit(X_train, y_train)"
   ]
  },
  {
   "cell_type": "code",
   "execution_count": 12,
   "id": "fb96d02c",
   "metadata": {},
   "outputs": [
    {
     "data": {
      "text/plain": [
       "KNeighborsClassifier()"
      ]
     },
     "execution_count": 12,
     "metadata": {},
     "output_type": "execute_result"
    }
   ],
   "source": [
    "# Train KNN model\n",
    "knn_model.fit(X_train, y_train)"
   ]
  },
  {
   "cell_type": "markdown",
   "id": "8835ffa0",
   "metadata": {},
   "source": [
    "# Evaluation Methodology"
   ]
  },
  {
   "cell_type": "code",
   "execution_count": 13,
   "id": "6cd2fe0a",
   "metadata": {},
   "outputs": [
    {
     "name": "stdout",
     "output_type": "stream",
     "text": [
      "Random Forest Accuracy: 1.0\n",
      "Random Forest Classification Report:\n",
      "               precision    recall  f1-score   support\n",
      "\n",
      "           0       1.00      1.00      1.00       843\n",
      "           1       1.00      1.00      1.00       782\n",
      "\n",
      "    accuracy                           1.00      1625\n",
      "   macro avg       1.00      1.00      1.00      1625\n",
      "weighted avg       1.00      1.00      1.00      1625\n",
      "\n",
      "Random Forest Confusion Matrix:\n",
      " [[843   0]\n",
      " [  0 782]]\n"
     ]
    }
   ],
   "source": [
    "\n",
    "# Evaluate Random Forest model\n",
    "rf_y_pred = rf_model.predict(X_test)\n",
    "rf_accuracy = accuracy_score(y_test, rf_y_pred)\n",
    "print(\"Random Forest Accuracy:\", rf_accuracy)\n",
    "print(\"Random Forest Classification Report:\\n\", classification_report(y_test, rf_y_pred))\n",
    "print(\"Random Forest Confusion Matrix:\\n\", confusion_matrix(y_test, rf_y_pred))"
   ]
  },
  {
   "cell_type": "code",
   "execution_count": 14,
   "id": "5f98ccdd",
   "metadata": {},
   "outputs": [
    {
     "name": "stdout",
     "output_type": "stream",
     "text": [
      "Logistic Regression Accuracy: 0.947076923076923\n",
      "Logistic Regression Classification Report:\n",
      "               precision    recall  f1-score   support\n",
      "\n",
      "           0       0.95      0.95      0.95       843\n",
      "           1       0.94      0.95      0.95       782\n",
      "\n",
      "    accuracy                           0.95      1625\n",
      "   macro avg       0.95      0.95      0.95      1625\n",
      "weighted avg       0.95      0.95      0.95      1625\n",
      "\n",
      "Logistic Regression Confusion Matrix:\n",
      " [[798  45]\n",
      " [ 41 741]]\n"
     ]
    }
   ],
   "source": [
    "# Evaluate Logistic Regression model\n",
    "lr_y_pred = lr_model.predict(X_test)\n",
    "lr_accuracy = accuracy_score(y_test, lr_y_pred)\n",
    "print(\"Logistic Regression Accuracy:\", lr_accuracy)\n",
    "print(\"Logistic Regression Classification Report:\\n\", classification_report(y_test, lr_y_pred))\n",
    "print(\"Logistic Regression Confusion Matrix:\\n\", confusion_matrix(y_test, lr_y_pred))\n"
   ]
  },
  {
   "cell_type": "code",
   "execution_count": 15,
   "id": "d37bae0e",
   "metadata": {},
   "outputs": [
    {
     "name": "stdout",
     "output_type": "stream",
     "text": [
      "KNN Accuracy: 0.9963076923076923\n",
      "KNN Classification Report:\n",
      "               precision    recall  f1-score   support\n",
      "\n",
      "           0       1.00      0.99      1.00       843\n",
      "           1       0.99      1.00      1.00       782\n",
      "\n",
      "    accuracy                           1.00      1625\n",
      "   macro avg       1.00      1.00      1.00      1625\n",
      "weighted avg       1.00      1.00      1.00      1625\n",
      "\n",
      "KNN Confusion Matrix:\n",
      " [[837   6]\n",
      " [  0 782]]\n"
     ]
    },
    {
     "name": "stderr",
     "output_type": "stream",
     "text": [
      "/opt/anaconda3/lib/python3.9/site-packages/sklearn/neighbors/_classification.py:228: FutureWarning: Unlike other reduction functions (e.g. `skew`, `kurtosis`), the default behavior of `mode` typically preserves the axis it acts along. In SciPy 1.11.0, this behavior will change: the default value of `keepdims` will become False, the `axis` over which the statistic is taken will be eliminated, and the value None will no longer be accepted. Set `keepdims` to True or False to avoid this warning.\n",
      "  mode, _ = stats.mode(_y[neigh_ind, k], axis=1)\n"
     ]
    }
   ],
   "source": [
    "# Evaluate KNN model\n",
    "knn_y_pred = knn_model.predict(X_test)\n",
    "knn_accuracy = accuracy_score(y_test, knn_y_pred)\n",
    "print(\"KNN Accuracy:\", knn_accuracy)\n",
    "print(\"KNN Classification Report:\\n\", classification_report(y_test, knn_y_pred))\n",
    "print(\"KNN Confusion Matrix:\\n\", confusion_matrix(y_test, knn_y_pred))"
   ]
  },
  {
   "cell_type": "markdown",
   "id": "6726dcf6",
   "metadata": {},
   "source": [
    "#  Feature Selection using Chi-square Test"
   ]
  },
  {
   "cell_type": "code",
   "execution_count": 16,
   "id": "02137212",
   "metadata": {},
   "outputs": [],
   "source": [
    "# Step 7: Feature Selection using Chi-square Test\n",
    "\n",
    "# Select top k features based on chi-square test\n",
    "num_features_to_select = 10  # You can change this value as per your requirement\n",
    "selector = SelectKBest(score_func=chi2, k=num_features_to_select)\n",
    "X_selected = selector.fit_transform(X, y)"
   ]
  },
  {
   "cell_type": "code",
   "execution_count": 17,
   "id": "cecd1c0b",
   "metadata": {},
   "outputs": [],
   "source": [
    "# Get the indices of selected features\n",
    "selected_indices = selector.get_support(indices=True)\n"
   ]
  },
  {
   "cell_type": "code",
   "execution_count": 18,
   "id": "170842cb",
   "metadata": {},
   "outputs": [],
   "source": [
    "# Get the names of selected features\n",
    "selected_features = X.columns[selected_indices]"
   ]
  },
  {
   "cell_type": "code",
   "execution_count": 19,
   "id": "ea83c18e",
   "metadata": {},
   "outputs": [
    {
     "name": "stdout",
     "output_type": "stream",
     "text": [
      "Selected Features: Index(['bruises', 'gill-spacing', 'gill-size', 'gill-color', 'stalk-root',\n",
      "       'stalk-surface-above-ring', 'ring-type', 'spore-print-color',\n",
      "       'population', 'habitat'],\n",
      "      dtype='object')\n"
     ]
    }
   ],
   "source": [
    "print(\"Selected Features:\", selected_features)"
   ]
  },
  {
   "cell_type": "code",
   "execution_count": 20,
   "id": "fb472aae",
   "metadata": {},
   "outputs": [],
   "source": [
    "models = {\n",
    "    'Random Forest': rf_model,\n",
    "    'Logistic Regression': lr_model,\n",
    "    'KNN': knn_model\n",
    "}"
   ]
  },
  {
   "cell_type": "markdown",
   "id": "23740f8b",
   "metadata": {},
   "source": [
    "#  Implement and Evaluate Models:"
   ]
  },
  {
   "cell_type": "code",
   "execution_count": 21,
   "id": "8c0edf05",
   "metadata": {},
   "outputs": [
    {
     "name": "stdout",
     "output_type": "stream",
     "text": [
      "Random Forest Accuracy: 1.0\n",
      "Random Forest Classification Report:\n",
      "               precision    recall  f1-score   support\n",
      "\n",
      "           0       1.00      1.00      1.00       843\n",
      "           1       1.00      1.00      1.00       782\n",
      "\n",
      "    accuracy                           1.00      1625\n",
      "   macro avg       1.00      1.00      1.00      1625\n",
      "weighted avg       1.00      1.00      1.00      1625\n",
      "\n",
      "Random Forest Confusion Matrix:\n",
      " [[843   0]\n",
      " [  0 782]]\n"
     ]
    }
   ],
   "source": [
    "#For Random Forest:\n",
    "from sklearn.metrics import classification_report, confusion_matrix, accuracy_score\n",
    "\n",
    "# Train Random Forest model\n",
    "rf_model.fit(X_train, y_train)\n",
    "\n",
    "# Evaluate Random Forest model\n",
    "rf_y_pred = rf_model.predict(X_test)\n",
    "\n",
    "# Calculate accuracy\n",
    "rf_accuracy = accuracy_score(y_test, rf_y_pred)\n",
    "\n",
    "# Print results\n",
    "print(\"Random Forest Accuracy:\", rf_accuracy)\n",
    "print(\"Random Forest Classification Report:\\n\", classification_report(y_test, rf_y_pred))\n",
    "print(\"Random Forest Confusion Matrix:\\n\", confusion_matrix(y_test, rf_y_pred))"
   ]
  },
  {
   "cell_type": "code",
   "execution_count": 22,
   "id": "e484c9be",
   "metadata": {},
   "outputs": [
    {
     "name": "stdout",
     "output_type": "stream",
     "text": [
      "Logistic Regression Accuracy: 0.947076923076923\n",
      "Logistic Regression Classification Report:\n",
      "               precision    recall  f1-score   support\n",
      "\n",
      "           0       0.95      0.95      0.95       843\n",
      "           1       0.94      0.95      0.95       782\n",
      "\n",
      "    accuracy                           0.95      1625\n",
      "   macro avg       0.95      0.95      0.95      1625\n",
      "weighted avg       0.95      0.95      0.95      1625\n",
      "\n",
      "Logistic Regression Confusion Matrix:\n",
      " [[798  45]\n",
      " [ 41 741]]\n"
     ]
    },
    {
     "name": "stderr",
     "output_type": "stream",
     "text": [
      "/opt/anaconda3/lib/python3.9/site-packages/sklearn/linear_model/_logistic.py:814: ConvergenceWarning: lbfgs failed to converge (status=1):\n",
      "STOP: TOTAL NO. of ITERATIONS REACHED LIMIT.\n",
      "\n",
      "Increase the number of iterations (max_iter) or scale the data as shown in:\n",
      "    https://scikit-learn.org/stable/modules/preprocessing.html\n",
      "Please also refer to the documentation for alternative solver options:\n",
      "    https://scikit-learn.org/stable/modules/linear_model.html#logistic-regression\n",
      "  n_iter_i = _check_optimize_result(\n"
     ]
    }
   ],
   "source": [
    "#For Logistic Regression:\n",
    "from sklearn.metrics import classification_report, confusion_matrix, accuracy_score\n",
    "\n",
    "# Train Logistic Regression model\n",
    "lr_model.fit(X_train, y_train)\n",
    "\n",
    "# Evaluate Logistic Regression model\n",
    "lr_y_pred = lr_model.predict(X_test)\n",
    "\n",
    "# Calculate accuracy\n",
    "lr_accuracy = accuracy_score(y_test, lr_y_pred)\n",
    "\n",
    "# Print results\n",
    "print(\"Logistic Regression Accuracy:\", lr_accuracy)\n",
    "print(\"Logistic Regression Classification Report:\\n\", classification_report(y_test, lr_y_pred))\n",
    "print(\"Logistic Regression Confusion Matrix:\\n\", confusion_matrix(y_test, lr_y_pred))"
   ]
  },
  {
   "cell_type": "code",
   "execution_count": null,
   "id": "cb036f81",
   "metadata": {},
   "outputs": [],
   "source": []
  },
  {
   "cell_type": "code",
   "execution_count": 23,
   "id": "0fd16d06",
   "metadata": {},
   "outputs": [
    {
     "name": "stdout",
     "output_type": "stream",
     "text": [
      "KNN Accuracy: 0.9963076923076923\n",
      "KNN Classification Report:\n",
      "               precision    recall  f1-score   support\n",
      "\n",
      "           0       1.00      0.99      1.00       843\n",
      "           1       0.99      1.00      1.00       782\n",
      "\n",
      "    accuracy                           1.00      1625\n",
      "   macro avg       1.00      1.00      1.00      1625\n",
      "weighted avg       1.00      1.00      1.00      1625\n",
      "\n",
      "KNN Confusion Matrix:\n",
      " [[837   6]\n",
      " [  0 782]]\n"
     ]
    },
    {
     "name": "stderr",
     "output_type": "stream",
     "text": [
      "/opt/anaconda3/lib/python3.9/site-packages/sklearn/neighbors/_classification.py:228: FutureWarning: Unlike other reduction functions (e.g. `skew`, `kurtosis`), the default behavior of `mode` typically preserves the axis it acts along. In SciPy 1.11.0, this behavior will change: the default value of `keepdims` will become False, the `axis` over which the statistic is taken will be eliminated, and the value None will no longer be accepted. Set `keepdims` to True or False to avoid this warning.\n",
      "  mode, _ = stats.mode(_y[neigh_ind, k], axis=1)\n"
     ]
    }
   ],
   "source": [
    "#For KNN:\n",
    "from sklearn.metrics import classification_report, confusion_matrix, accuracy_score\n",
    "\n",
    "# Train KNN model\n",
    "knn_model.fit(X_train, y_train)\n",
    "\n",
    "# Evaluate KNN model\n",
    "knn_y_pred = knn_model.predict(X_test)\n",
    "\n",
    "# Calculate accuracy\n",
    "knn_accuracy = accuracy_score(y_test, knn_y_pred)\n",
    "\n",
    "# Print results\n",
    "print(\"KNN Accuracy:\", knn_accuracy)\n",
    "print(\"KNN Classification Report:\\n\", classification_report(y_test, knn_y_pred))\n",
    "print(\"KNN Confusion Matrix:\\n\", confusion_matrix(y_test, knn_y_pred))"
   ]
  },
  {
   "cell_type": "code",
   "execution_count": 24,
   "id": "016e7b6d",
   "metadata": {},
   "outputs": [
    {
     "name": "stdout",
     "output_type": "stream",
     "text": [
      "                 Model  Accuracy  Precision   Recall  F1-score\n",
      "0        Random Forest  1.000000   1.000000  1.00000  1.000000\n",
      "1  Logistic Regression  0.947077   0.942748  0.94757  0.945153\n",
      "2                  KNN  0.996308   0.992386  1.00000  0.996178\n"
     ]
    }
   ],
   "source": [
    "# Create a dictionary to store the metrics\n",
    "metrics_dict = {\n",
    "    'Model': ['Random Forest', 'Logistic Regression', 'KNN'],\n",
    "    'Accuracy': [rf_accuracy, lr_accuracy, knn_accuracy],\n",
    "    'Precision': [precision_score(y_test, rf_y_pred), precision_score(y_test, lr_y_pred), precision_score(y_test, knn_y_pred)],\n",
    "    'Recall': [recall_score(y_test, rf_y_pred), recall_score(y_test, lr_y_pred), recall_score(y_test, knn_y_pred)],\n",
    "    'F1-score': [f1_score(y_test, rf_y_pred), f1_score(y_test, lr_y_pred), f1_score(y_test, knn_y_pred)]\n",
    "}\n",
    "\n",
    "# Create a DataFrame from the dictionary\n",
    "metrics_df = pd.DataFrame(metrics_dict)\n",
    "\n",
    "# Print the DataFrame\n",
    "print(metrics_df)"
   ]
  },
  {
   "cell_type": "markdown",
   "id": "a5f20074",
   "metadata": {},
   "source": [
    "# Visualisations of different models\n"
   ]
  },
  {
   "cell_type": "code",
   "execution_count": 25,
   "id": "82e170d0",
   "metadata": {},
   "outputs": [
    {
     "data": {
      "image/png": "[encoded data removed]",
      "text/plain": [
       "<Figure size 800x600 with 1 Axes>"
      ]
     },
     "metadata": {},
     "output_type": "display_data"
    }
   ],
   "source": [
    "#For Random Forest:\n",
    "\n",
    "# Train Random Forest model\n",
    "rf_model.fit(X_train, y_train)\n",
    "\n",
    "# Evaluate Random Forest model\n",
    "rf_y_pred = rf_model.predict(X_test)\n",
    "\n",
    "# Calculate performance metrics\n",
    "rf_accuracy = accuracy_score(y_test, rf_y_pred)\n",
    "rf_precision = precision_score(y_test, rf_y_pred)\n",
    "rf_recall = recall_score(y_test, rf_y_pred)\n",
    "rf_f1_score = f1_score(y_test, rf_y_pred)\n",
    "\n",
    "# Create DataFrame for metrics\n",
    "rf_metrics = pd.DataFrame({\n",
    "    'Metric': ['Accuracy', 'Precision', 'Recall', 'F1-score'],\n",
    "    'Score': [rf_accuracy, rf_precision, rf_recall, rf_f1_score]\n",
    "})\n",
    "\n",
    "# Plotting\n",
    "fig, ax = plt.subplots(figsize=(8, 6))\n",
    "sns.barplot(x='Metric', y='Score', data=rf_metrics, ax=ax)\n",
    "ax.set_title('Random Forest Performance Metrics')\n",
    "ax.set_ylabel('Score')\n",
    "plt.xticks(rotation=45, ha='right')\n",
    "\n",
    "# Add percentages above the bars\n",
    "for p in ax.patches:\n",
    "    ax.annotate(f'{p.get_height()*100:.2f}%', (p.get_x() + p.get_width() / 2., p.get_height()), ha='center', va='center', xytext=(0, 10), textcoords='offset points')\n",
    "\n",
    "plt.tight_layout()\n",
    "plt.show()\n"
   ]
  },
  {
   "cell_type": "code",
   "execution_count": 26,
   "id": "180d0547",
   "metadata": {},
   "outputs": [
    {
     "name": "stderr",
     "output_type": "stream",
     "text": [
      "/opt/anaconda3/lib/python3.9/site-packages/sklearn/linear_model/_logistic.py:814: ConvergenceWarning: lbfgs failed to converge (status=1):\n",
      "STOP: TOTAL NO. of ITERATIONS REACHED LIMIT.\n",
      "\n",
      "Increase the number of iterations (max_iter) or scale the data as shown in:\n",
      "    https://scikit-learn.org/stable/modules/preprocessing.html\n",
      "Please also refer to the documentation for alternative solver options:\n",
      "    https://scikit-learn.org/stable/modules/linear_model.html#logistic-regression\n",
      "  n_iter_i = _check_optimize_result(\n"
     ]
    },
    {
     "data": {
      "image/png": "[encoded data removed]",
      "text/plain": [
       "<Figure size 800x600 with 1 Axes>"
      ]
     },
     "metadata": {},
     "output_type": "display_data"
    }
   ],
   "source": [
    "#For Logistic Regression:\n",
    "\n",
    "# Train Logistic Regression model\n",
    "lr_model.fit(X_train, y_train)\n",
    "\n",
    "# Evaluate Logistic Regression model\n",
    "lr_y_pred = lr_model.predict(X_test)\n",
    "\n",
    "# Calculate performance metrics\n",
    "lr_accuracy = accuracy_score(y_test, lr_y_pred)\n",
    "lr_precision = precision_score(y_test, lr_y_pred)\n",
    "lr_recall = recall_score(y_test, lr_y_pred)\n",
    "lr_f1_score = f1_score(y_test, lr_y_pred)\n",
    "\n",
    "# Create DataFrame for metrics\n",
    "lr_metrics = pd.DataFrame({\n",
    "    'Metric': ['Accuracy', 'Precision', 'Recall', 'F1-score'],\n",
    "    'Score': [lr_accuracy, lr_precision, lr_recall, lr_f1_score]\n",
    "})\n",
    "\n",
    "# Plotting\n",
    "fig, ax = plt.subplots(figsize=(8, 6))\n",
    "sns.barplot(x='Metric', y='Score', data=lr_metrics, ax=ax)\n",
    "ax.set_title('Logistic Regression Performance Metrics')\n",
    "ax.set_ylabel('Score')\n",
    "plt.xticks(rotation=45, ha='right')\n",
    "\n",
    "# Add percentages above the bars\n",
    "for p in ax.patches:\n",
    "    ax.annotate(f'{p.get_height()*100:.2f}%', (p.get_x() + p.get_width() / 2., p.get_height()), ha='center', va='center', xytext=(0, 10), textcoords='offset points')\n",
    "\n",
    "plt.tight_layout()\n",
    "plt.show()\n"
   ]
  },
  {
   "cell_type": "code",
   "execution_count": 27,
   "id": "4d6ea4a3",
   "metadata": {},
   "outputs": [
    {
     "name": "stderr",
     "output_type": "stream",
     "text": [
      "/opt/anaconda3/lib/python3.9/site-packages/sklearn/neighbors/_classification.py:228: FutureWarning: Unlike other reduction functions (e.g. `skew`, `kurtosis`), the default behavior of `mode` typically preserves the axis it acts along. In SciPy 1.11.0, this behavior will change: the default value of `keepdims` will become False, the `axis` over which the statistic is taken will be eliminated, and the value None will no longer be accepted. Set `keepdims` to True or False to avoid this warning.\n",
      "  mode, _ = stats.mode(_y[neigh_ind, k], axis=1)\n"
     ]
    },
    {
     "data": {
      "image/png": "[encoded data removed]",
      "text/plain": [
       "<Figure size 800x600 with 1 Axes>"
      ]
     },
     "metadata": {},
     "output_type": "display_data"
    }
   ],
   "source": [
    "#For KNN:\n",
    "\n",
    "# Train KNN model\n",
    "knn_model.fit(X_train, y_train)\n",
    "\n",
    "# Evaluate KNN model\n",
    "knn_y_pred = knn_model.predict(X_test)\n",
    "\n",
    "# Calculate performance metrics\n",
    "knn_accuracy = accuracy_score(y_test, knn_y_pred)\n",
    "knn_precision = precision_score(y_test, knn_y_pred)\n",
    "knn_recall = recall_score(y_test, knn_y_pred)\n",
    "knn_f1_score = f1_score(y_test, knn_y_pred)\n",
    "\n",
    "# Create DataFrame for metrics\n",
    "knn_metrics = pd.DataFrame({\n",
    "    'Metric': ['Accuracy', 'Precision', 'Recall', 'F1-score'],\n",
    "    'Score': [knn_accuracy, knn_precision, knn_recall, knn_f1_score]\n",
    "})\n",
    "\n",
    "# Plotting\n",
    "fig, ax = plt.subplots(figsize=(8, 6))\n",
    "sns.barplot(x='Metric', y='Score', data=knn_metrics, ax=ax)\n",
    "ax.set_title('KNN Performance Metrics')\n",
    "ax.set_ylabel('Score')\n",
    "plt.xticks(rotation=45, ha='right')\n",
    "\n",
    "# Add percentages above the bars\n",
    "for p in ax.patches:\n",
    "    ax.annotate(f'{p.get_height()*100:.2f}%', (p.get_x() + p.get_width() / 2., p.get_height()), ha='center', va='center', xytext=(0, 10), textcoords='offset points')\n",
    "\n",
    "plt.tight_layout()\n",
    "plt.show()\n"
   ]
  },
  {
   "cell_type": "markdown",
   "id": "884cec08",
   "metadata": {},
   "source": [
    "# Model with the best performance "
   ]
  },
  {
   "cell_type": "code",
   "execution_count": 28,
   "id": "91c1876b",
   "metadata": {},
   "outputs": [
    {
     "name": "stdout",
     "output_type": "stream",
     "text": [
      "Best Model: Random Forest\n",
      "Accuracy: 1.0\n",
      "Precision: 1.0\n",
      "Recall: 1.0\n",
      "F1-score: 1.0\n"
     ]
    }
   ],
   "source": [
    "import pandas as pd\n",
    "\n",
    "# Store performance metrics\n",
    "models_metrics = {\n",
    "    'Random Forest': {\n",
    "        'accuracy': rf_accuracy,\n",
    "        'precision': precision_score(y_test, rf_y_pred),\n",
    "        'recall': recall_score(y_test, rf_y_pred),\n",
    "        'f1-score': f1_score(y_test, rf_y_pred)\n",
    "    },\n",
    "    'Logistic Regression': {\n",
    "        'accuracy': lr_accuracy,\n",
    "        'precision': precision_score(y_test, lr_y_pred),\n",
    "        'recall': recall_score(y_test, lr_y_pred),\n",
    "        'f1-score': f1_score(y_test, lr_y_pred)\n",
    "    },\n",
    "    'KNN': {\n",
    "        'accuracy': knn_accuracy,\n",
    "        'precision': precision_score(y_test, knn_y_pred),\n",
    "        'recall': recall_score(y_test, knn_y_pred),\n",
    "        'f1-score': f1_score(y_test, knn_y_pred)\n",
    "    }\n",
    "}\n",
    "\n",
    "# Create DataFrame from metrics\n",
    "metrics_df = pd.DataFrame(models_metrics).T  # Transpose to have models as rows\n",
    "\n",
    "# Find the model with the best performance\n",
    "best_model = metrics_df.idxmax().to_dict()\n",
    "\n",
    "# Display the best model and its performance metrics\n",
    "print(\"Best Model:\", best_model['accuracy'])\n",
    "print(\"Accuracy:\", metrics_df.loc[best_model['accuracy'], 'accuracy'])\n",
    "print(\"Precision:\", metrics_df.loc[best_model['accuracy'], 'precision'])\n",
    "print(\"Recall:\", metrics_df.loc[best_model['accuracy'], 'recall'])\n",
    "print(\"F1-score:\", metrics_df.loc[best_model['accuracy'], 'f1-score'])\n",
    "\n"
   ]
  },
  {
   "cell_type": "markdown",
   "id": "ec99eb73",
   "metadata": {},
   "source": [
    "# Managerial implications"
   ]
  },
  {
   "cell_type": "code",
   "execution_count": 29,
   "id": "1b74e4f1",
   "metadata": {},
   "outputs": [
    {
     "name": "stdout",
     "output_type": "stream",
     "text": [
      "Managerial Implication:\n",
      "Implement a decision-making system based on the Random Forest model to classify mushrooms into edible and poisonous categories.\n",
      "This system can be used for safety and quality control in the mushroom industry, helping to ensure that only edible mushrooms are distributed to consumers.\n"
     ]
    }
   ],
   "source": [
    "## Managerial implications\n",
    "best_model = 'Random Forest'\n",
    "if best_model == 'Random Forest':\n",
    "    print(\"Managerial Implication:\")\n",
    "    print(\"Implement a decision-making system based on the Random Forest model to classify mushrooms into edible and poisonous categories.\")\n",
    "    print(\"This system can be used for safety and quality control in the mushroom industry, helping to ensure that only edible mushrooms are distributed to consumers.\")\n",
    "else:\n",
    "    print(\"No specific managerial implication derived.\")"
   ]
  },
  {
   "cell_type": "markdown",
   "id": "40ab403b",
   "metadata": {},
   "source": [
    "# CONCLUSION"
   ]
  },
  {
   "cell_type": "markdown",
   "id": "66fe6bd4",
   "metadata": {},
   "source": [
    "\n",
    "From the above visualization, we can see that the three models - Random Forest, Logistion Regression and KNN (all after performing feature selection using correlation) - have sameperformance metrics. Therefore, it is essential to consider additional factors to rec\u0002ommend the best model.\n",
    "\n",
    "1. Random Forest (after feature selection):\n",
    "\n",
    "    Interpretability: Moderate interpretability due to ensemble nature.\n",
    "    Computational Resources: Moderate computational requirements.\n",
    "    Conclusion: Balanced choice if interpretability is a priority and computational resources are limited.\n",
    "2. Logistic Regression:\n",
    "\n",
    "    Interpretability: High interpretability.\n",
    "    Computational Resources: Low computational requirements.\n",
    "    Conclusion: Preferred if interpretability is crucial, with efficient resource usage.\n",
    "    \n",
    "3. KNN:\n",
    "\n",
    "    Interpretability: Low interpretability.\n",
    "    Computational Resources: High computational requirements.\n",
    "    Conclusion: Less preferable due to its computational complexity and lower interpretability compared to         Random Forest and Logistic Regression."
   ]
  },
  {
   "cell_type": "code",
   "execution_count": null,
   "id": "ac8fb742",
   "metadata": {},
   "outputs": [],
   "source": []
  }
 ],
 "metadata": {
  "kernelspec": {
   "display_name": "Python 3 (ipykernel)",
   "language": "python",
   "name": "python3"
  },
  "language_info": {
   "codemirror_mode": {
    "name": "ipython",
    "version": 3
   },
   "file_extension": ".py",
   "mimetype": "text/x-python",
   "name": "python",
   "nbconvert_exporter": "python",
   "pygments_lexer": "ipython3",
   "version": "3.9.13"
  }
 },
 "nbformat": 4,
 "nbformat_minor": 5
}
